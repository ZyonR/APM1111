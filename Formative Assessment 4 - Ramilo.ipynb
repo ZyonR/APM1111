{
 "cells": [
  {
   "cell_type": "code",
   "execution_count": 3,
   "id": "a73acbf0-79bb-40c1-9799-3f11f91f7ffe",
   "metadata": {},
   "outputs": [],
   "source": [
    "import pandas as pd\n",
    "import numpy as np\n",
    "import scipy as stats"
   ]
  },
  {
   "cell_type": "code",
   "execution_count": 13,
   "id": "d2d7b54d-2c0b-4ff6-ad86-054a75415c69",
   "metadata": {},
   "outputs": [],
   "source": [
    "normal = [67,70,63,65,68,60,70,64,69,61,66,65,71,62,66,68,64,67,62,66,65,63,66,65,63,69, 62, 67, 59, 66, 65, 63, 65, 60, 67, 64, 68, 61, 69, 65, 62, 67, 70, 64, 63, 68, 64, 65, 61, 66]\n",
    "skewedRight = [31, 43, 30, 30, 38, 26, 29, 55, 46, 26, 29, 57, 34, 34, 36, 40, 28, 26, 66, 63, 30, 33, 24, 35, 34, 40, 24, 29, 24, 27, 35, 33, 75, 38, 34, 85, 29, 40, 41, 35, 26, 34, 19, 23, 28, 26, 31, 25, 22, 28]\n",
    "skewedLeft = [102, 87, 55, 104, 70, 75, 95, 80, 73, 66, 79, 93, 60, 90, 73, 84, 89, 73, 85, 98, 72, 79, 92, 35, 76, 71, 93, 90, 76, 71, 97, 63, 10, 58, 70, 82, 85, 72, 25, 93, 83, 44, 58, 65, 10, 77, 92, 81, 82, 77]\n",
    "uniform = [12.1, 11.6, 12.1, 11.6, 12.4, 12.0, 12.1, 11.6, 12.1, 11.6, 12.2, 11.7, 12.2, 12.3, 12.2, 11.7, 11.9, 11.7, 12.2, 11.7,12.3, 11.8, 12.3, 12.5, 11.7, 11.8, 12.3, 11.8, 12.3, 11.8,12.4, 11.9, 12.4, 11.9, 12.1, 11.9, 12.4, 12.2, 12.4, 11.9,12.5, 12.0, 11.8, 11.9, 12.5, 12.0, 12.5, 12.0, 12.5, 12.0]"
   ]
  },
  {
   "cell_type": "code",
   "execution_count": 17,
   "id": "f9de5d2c-ffc3-40b0-9000-ee778b5e7cc7",
   "metadata": {},
   "outputs": [],
   "source": [
    "sampleData = [normal,skewedRight,skewedLeft,uniform]\n",
    "sampleData_arrays = [np.array(data) for data in sampleData]"
   ]
  },
  {
   "cell_type": "markdown",
   "id": "6eb47002-35a8-416c-bd74-b258d491036a",
   "metadata": {},
   "source": [
    "1. Find the (a) first, (b) second, (c) third, and (d ) fourth moments for each of the sets of data (normal, skewed-right, skewed-left, uniform)."
   ]
  },
  {
   "cell_type": "code",
   "execution_count": 39,
   "id": "28ed2386-bdf3-41f0-a303-97869552cad3",
   "metadata": {},
   "outputs": [
    {
     "name": "stdout",
     "output_type": "stream",
     "text": [
      "\n",
      "First Moment of the  Set\n",
      "Normal: 65.11999999999999\n",
      "Skewed-right: 35.480000000000004\n",
      "Skewed-left: 74.20000000000002\n",
      "Uniform: 12.056\n",
      "\n",
      "Second Moment of the  Set\n",
      "Normal: 4248.92\n",
      "Skewed-right: 1437.7200000000003\n",
      "Skewed-left: 5925.4\n",
      "Uniform: 145.42600000000002\n",
      "\n",
      "Third Moment of the  Set\n",
      "Normal: 277770.92\n",
      "Skewed-right: 68292.44\n",
      "Skewed-left: 489458.79999999993\n",
      "Uniform: 1755.15776\n",
      "\n",
      "Fourth Moment of the  Set\n",
      "Normal: 18194173.64\n",
      "Skewed-right: 3797594.04\n",
      "Skewed-left: 41396161.480000004\n",
      "Uniform: 21194.5933\n"
     ]
    }
   ],
   "source": [
    "def getMomentsOftheSet(arr, exp):\n",
    "    return np.sum((arr ** exp) / 50)\n",
    "\n",
    "moments = []\n",
    "titles = [\"Normal\", \"Skewed-right\", \"Skewed-left\", \"Uniform\"]\n",
    "momentsOrder = [\"First Moment of the  Set\", \"Second Moment of the  Set\", \"Third Moment of the  Set\", \"Fourth Moment of the  Set\"]\n",
    "\n",
    "for i in range(4):\n",
    "    amoment = []\n",
    "    for j, arr in enumerate(sampleData_arrays):\n",
    "        amoment.append((titles[j], getMomentsOftheSet(arr, i + 1)))\n",
    "    moments.append(amoment)\n",
    "\n",
    "for i,order in enumerate(momentsOrder):\n",
    "    print(f\"\\n{order}\")\n",
    "    for moment in moments[i]:\n",
    "        print(f\"{moment[0]}: {moment[1]}\")"
   ]
  },
  {
   "cell_type": "markdown",
   "id": "fa4359d2-34b3-46b1-8ff5-8351ad43e53f",
   "metadata": {},
   "source": [
    "2. Find the (a) first, (b) second, (c) third, and (d ) fourth moments about the mean for each of the sets of data (normal, skewed-right, skewed-left, uniform)."
   ]
  },
  {
   "cell_type": "code",
   "execution_count": 60,
   "id": "a9e07e32-9714-41d4-9aaa-a3fe2c4134c7",
   "metadata": {},
   "outputs": [
    {
     "name": "stdout",
     "output_type": "stream",
     "text": [
      "\n",
      "First Moment about the  Mean\n",
      "Normal: -4.579669976578771e-15\n",
      "Skewed-right: 2.8033131371785203e-15\n",
      "Skewed-left: -2.851885394505871e-15\n",
      "Uniform: 8.4893030105615e-16\n",
      "\n",
      "Second Moment about the  Mean\n",
      "Normal: 8.3056\n",
      "Skewed-right: 178.8896\n",
      "Skewed-left: 419.75999999999993\n",
      "Uniform: 0.07886400000000006\n",
      "\n",
      "Third Moment about the  Mean\n",
      "Normal: -0.4717440000001135\n",
      "Skewed-right: 4588.128384000002\n",
      "Skewed-left: -12498.264000000005\n",
      "Uniform: 0.0003352320000001925\n",
      "\n",
      "Fourth Moment about the  Mean\n",
      "Normal: 160.94862592\n",
      "Skewed-right: 210642.88343552005\n",
      "Skewed-left: 927289.7472\n",
      "Uniform: 0.01125116851200003\n"
     ]
    }
   ],
   "source": [
    "def getMomentsAboutTheMean(arr, exp):\n",
    "    return np.sum(((arr-np.mean(arr))** exp) / 50)\n",
    "\n",
    "moments = []\n",
    "titles = [\"Normal\", \"Skewed-right\", \"Skewed-left\", \"Uniform\"]\n",
    "momentsOrder = [\"First Moment about the  Mean\", \"Second Moment about the  Mean\", \"Third Moment about the  Mean\", \"Fourth Moment about the  Mean\"]\n",
    "\n",
    "for i in range(4):\n",
    "    amoment = []\n",
    "    for j, arr in enumerate(sampleData_arrays):\n",
    "        amoment.append((titles[j], getMomentsAboutTheMean(arr, i + 1)))\n",
    "    moments.append(amoment)\n",
    "\n",
    "for i,order in enumerate(momentsOrder):\n",
    "    print(f\"\\n{order}\")\n",
    "    for moment in moments[i]:\n",
    "        print(f\"{moment[0]}: {moment[1]}\")"
   ]
  },
  {
   "cell_type": "markdown",
   "id": "4c459f67-cbc5-4b4b-b491-13b48591e94d",
   "metadata": {},
   "source": [
    "3. Find the (a) first, (b) second, (c) third, and (d ) fourth moments about the number 75 for the set of female height measurements."
   ]
  },
  {
   "cell_type": "code",
   "execution_count": 74,
   "id": "c62f778a-a397-451b-b2e3-7c975db178e1",
   "metadata": {},
   "outputs": [
    {
     "name": "stdout",
     "output_type": "stream",
     "text": [
      "\n",
      "First Moment about  75\n",
      "Normal: -9.879999999999999\n",
      "\n",
      "Second Moment about  75\n",
      "Normal: 105.92\n",
      "\n",
      "Third Moment about  75\n",
      "Normal: -1211.0800000000002\n",
      "\n",
      "Fourth Moment about  75\n",
      "Normal: 14572.64\n"
     ]
    }
   ],
   "source": [
    "def getMomentsAbout75(arr, exp):\n",
    "    return np.sum(((arr-75)** exp) / 50)\n",
    "\n",
    "moments = []\n",
    "titles = [\"Normal\", \"Skewed-right\", \"Skewed-left\", \"Uniform\"]\n",
    "momentsOrder = [\"First Moment about  75\", \"Second Moment about  75\", \"Third Moment about  75\", \"Fourth Moment about  75\"]\n",
    "\n",
    "for i in range(4):\n",
    "    amoment = []\n",
    "    for j, arr in enumerate(sampleData_arrays):\n",
    "        amoment.append((titles[j], getMomentsAbout75(arr, i + 1)))\n",
    "    moments.append(amoment)\n",
    "\n",
    "for i,order in enumerate(momentsOrder):\n",
    "    print(f\"\\n{order}\")\n",
    "    for moment in moments[i]:\n",
    "        if moments[i].index(moment) == 0:\n",
    "            print(f\"{moment[0]}: {moment[1]}\")"
   ]
  },
  {
   "cell_type": "markdown",
   "id": "e1f9604b-a232-4520-b8e0-72c7e67b6365",
   "metadata": {},
   "source": [
    "4. Using the results of items 2 and 3 for the set of female height measurements, verify the relations between the moments "
   ]
  },
  {
   "cell_type": "code",
   "execution_count": 73,
   "id": "0f1427a5-67e2-4fd5-96ae-2a9607f910e2",
   "metadata": {},
   "outputs": [
    {
     "name": "stdout",
     "output_type": "stream",
     "text": [
      "Moments:\n",
      "Female Height Measurements 1st Moment: -4.579669976578771e-15\n",
      "Female Height Measurements 2nd Moment: 8.3056\n",
      "Female Height Measurements 3rd Moment: -0.4717440000001135\n",
      "Female Height Measurements 4th Moment: 160.94862592\n",
      "\n",
      "\n",
      "Relationship:\n",
      "Female Height Measurements 2nd Moment: 8.3056\n",
      "Female Height Measurements 3rd Moment: -0.4717439999999994\n",
      "Female Height Measurements 4th Moment: 160.94862592\n"
     ]
    }
   ],
   "source": [
    "#Item 2 for Female Height Measurements\n",
    "\n",
    "normalMoments = [arr[0][1] for arr in moments]\n",
    "print(\"Moments:\")\n",
    "print(f\"Female Height Measurements 1st Moment: {normalMoments[0]}\")\n",
    "print(f\"Female Height Measurements 2nd Moment: {normalMoments[1]}\")\n",
    "print(f\"Female Height Measurements 3rd Moment: {normalMoments[2]}\")\n",
    "print(f\"Female Height Measurements 4th Moment: {normalMoments[3]}\")\n",
    "print(\"\\n\\nRelationship:\")\n",
    "print(f\"Female Height Measurements 2nd Moment: {normalMoments[1] - normalMoments[0]**2}\")\n",
    "print(f\"Female Height Measurements 3rd Moment: {normalMoments[2] - 3*normalMoments[0]*normalMoments[1] + 2*(normalMoments[0]**3)}\")\n",
    "print(f\"Female Height Measurements 4th Moment: {normalMoments[3] - 4*normalMoments[0]*normalMoments[2] + 6*(normalMoments[0]**2)*normalMoments[2] - 3*(normalMoments[0])**4}\")"
   ]
  },
  {
   "cell_type": "code",
   "execution_count": 78,
   "id": "cb5168a8-cb8f-4d6a-b896-1e6c6b03c902",
   "metadata": {},
   "outputs": [
    {
     "name": "stdout",
     "output_type": "stream",
     "text": [
      "8.305600000000027\n",
      "Moments:\n",
      "Female Height Measurements 1st Moment: -9.879999999999999\n",
      "Female Height Measurements 2nd Moment: 105.92\n",
      "Female Height Measurements 3rd Moment: -1211.0800000000002\n",
      "Female Height Measurements 4th Moment: 14572.64\n",
      "\n",
      "\n",
      "Relationship:\n",
      "Female Height Measurements 2nd Moment: 8.305600000000027\n",
      "Female Height Measurements 3rd Moment: -0.4717439999999442\n",
      "Female Height Measurements 4th Moment: -771188.0401740798\n"
     ]
    }
   ],
   "source": [
    "#Item 3 for Female Height Measurements\n",
    "\n",
    "normalMoments3 = [arr[0][1] for arr in moments]\n",
    "print(normalMoments3[1] - normalMoments3[0]**2)\n",
    "print(\"Moments:\")\n",
    "print(f\"Female Height Measurements 1st Moment: {normalMoments[0]}\")\n",
    "print(f\"Female Height Measurements 2nd Moment: {normalMoments[1]}\")\n",
    "print(f\"Female Height Measurements 3rd Moment: {normalMoments[2]}\")\n",
    "print(f\"Female Height Measurements 4th Moment: {normalMoments[3]}\")\n",
    "print(\"\\n\\nRelationship:\")\n",
    "print(f\"Female Height Measurements 2nd Moment: {normalMoments[1] - normalMoments[0]**2}\")\n",
    "print(f\"Female Height Measurements 3rd Moment: {normalMoments[2] - 3*normalMoments[0]*normalMoments[1] + 2*(normalMoments[0]**3)}\")\n",
    "print(f\"Female Height Measurements 4th Moment: {normalMoments[3] - 4*normalMoments[0]*normalMoments[2] + 6*(normalMoments[0]**2)*normalMoments[2] - 3*(normalMoments[0])**4}\")"
   ]
  },
  {
   "cell_type": "code",
   "execution_count": null,
   "id": "679f2fb5-21a0-4f77-a17e-97a8a8cfeb27",
   "metadata": {},
   "outputs": [],
   "source": []
  }
 ],
 "metadata": {
  "kernelspec": {
   "display_name": "Python 3 (ipykernel)",
   "language": "python",
   "name": "python3"
  },
  "language_info": {
   "codemirror_mode": {
    "name": "ipython",
    "version": 3
   },
   "file_extension": ".py",
   "mimetype": "text/x-python",
   "name": "python",
   "nbconvert_exporter": "python",
   "pygments_lexer": "ipython3",
   "version": "3.11.7"
  }
 },
 "nbformat": 4,
 "nbformat_minor": 5
}
