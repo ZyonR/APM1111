{
 "cells": [
  {
   "cell_type": "code",
   "execution_count": 25,
   "id": "7715490f-825a-4145-924f-951f38f8a81b",
   "metadata": {},
   "outputs": [],
   "source": [
    "import pandas as pd\n",
    "import matplotlib.pyplot as plt\n",
    "from scipy import stats\n",
    "import numpy as np\n",
    "import math as m\n",
    "\n",
    "male = [12,7,7,10,8,10,11,9,9,13,4,9,12,11,9,9,7,12,10,13,11,10,6,12,11,9,10,12,8,9,13,10,9,7,10,7,10,8,11,10,11,7,15,8,9,9,11,13,10,13]\n",
    "female = [11,10,11,10,11,12,12,10,9,9,9,10,8,7,12,9,7,8,9,8,7,7,9,9,12,10,9,13,9,9,10,9,6,12,8,11,8,8,11,12,9,10,11,14,12,7,11,10,9,11]"
   ]
  },
  {
   "cell_type": "markdown",
   "id": "55649e21-ea83-462e-b7b3-1d0e39b38611",
   "metadata": {},
   "source": [
    "#### Formulate and present the rationale for a hypothesis test that the researcher could use to compare the mean time spent on cell phones by male and female college students per week.\n",
    "\n",
    "Rationale: Is there a significant difference in the mean time spent on cellphone usage between girls and boys."
   ]
  },
  {
   "cell_type": "markdown",
   "id": "8697a0f6-ecd9-4d0e-954a-0844f20f388e",
   "metadata": {},
   "source": [
    "#### Analyze the data to provide the hypothesis testing conclusion. What is the p-value for your test? What is your recommendation for the researcher?\n",
    "Let $\\mu_1$ be the mean time spent on cell phones by the male sex.\n",
    "\n",
    "Let $\\mu_2$ be the mean time spent on cell phones by the female sex.\n",
    "\n",
    "$H_0: \\mu_1 = \\mu_2$\n",
    "\n",
    "$H_1: \\mu_1 \\neq \\mu_2$"
   ]
  },
  {
   "cell_type": "code",
   "execution_count": 5,
   "id": "0514b7b8-4122-44a9-b9fe-b06ec4a206f0",
   "metadata": {},
   "outputs": [
    {
     "name": "stdout",
     "output_type": "stream",
     "text": [
      "T-Statistic: 0.30394907866566184\n",
      "P-Value: 0.7618111039906375\n"
     ]
    }
   ],
   "source": [
    "tStat,pVal = stats.ttest_ind(male,female)\n",
    "print(f\"T-Statistic: {tStat}\")\n",
    "print(f\"P-Value: {pVal}\")"
   ]
  },
  {
   "cell_type": "markdown",
   "id": "3639546a-275b-484b-8441-cb101e49a530",
   "metadata": {},
   "source": [
    "**Recommendation:**\n",
    "\n",
    "Since the p-value is not less than 0.05 then we cannot reject the null hypothesis, hence the mean of both groups does not contain any significant difference between the two groups. Check for normality and assumptions of the independent t-test, the sample size of the data is too small which is not representative of the population. If assumptions and sample size are sufficient we can conduct a deeper analysis by finding a correlation between their study time and the hours spent on their phone, and determine if their usage is mostly academic purposes, provided there is data for it."
   ]
  },
  {
   "cell_type": "markdown",
   "id": "11cfcad9-dc59-4ef9-8b95-ffbf5f93ae59",
   "metadata": {},
   "source": [
    "####  Provide descriptive statistical summaries of the data for each gender category."
   ]
  },
  {
   "cell_type": "code",
   "execution_count": 19,
   "id": "74f09657-7cd3-4afd-9b07-ebc65fd5167b",
   "metadata": {},
   "outputs": [
    {
     "data": {
      "text/html": [
       "<div>\n",
       "<style scoped>\n",
       "    .dataframe tbody tr th:only-of-type {\n",
       "        vertical-align: middle;\n",
       "    }\n",
       "\n",
       "    .dataframe tbody tr th {\n",
       "        vertical-align: top;\n",
       "    }\n",
       "\n",
       "    .dataframe thead th {\n",
       "        text-align: right;\n",
       "    }\n",
       "</style>\n",
       "<table border=\"1\" class=\"dataframe\">\n",
       "  <thead>\n",
       "    <tr style=\"text-align: right;\">\n",
       "      <th></th>\n",
       "      <th>count</th>\n",
       "      <th>mean</th>\n",
       "      <th>std</th>\n",
       "      <th>min</th>\n",
       "      <th>25%</th>\n",
       "      <th>50%</th>\n",
       "      <th>75%</th>\n",
       "      <th>max</th>\n",
       "      <th>Skew</th>\n",
       "      <th>Kurt</th>\n",
       "      <th>Midean</th>\n",
       "      <th>Var</th>\n",
       "    </tr>\n",
       "    <tr>\n",
       "      <th>sex</th>\n",
       "      <th></th>\n",
       "      <th></th>\n",
       "      <th></th>\n",
       "      <th></th>\n",
       "      <th></th>\n",
       "      <th></th>\n",
       "      <th></th>\n",
       "      <th></th>\n",
       "      <th></th>\n",
       "      <th></th>\n",
       "      <th></th>\n",
       "      <th></th>\n",
       "    </tr>\n",
       "  </thead>\n",
       "  <tbody>\n",
       "    <tr>\n",
       "      <th>female</th>\n",
       "      <td>50.0</td>\n",
       "      <td>9.70</td>\n",
       "      <td>1.775686</td>\n",
       "      <td>6.0</td>\n",
       "      <td>9.0</td>\n",
       "      <td>9.5</td>\n",
       "      <td>11.0</td>\n",
       "      <td>14.0</td>\n",
       "      <td>0.130345</td>\n",
       "      <td>-0.516480</td>\n",
       "      <td>9.5</td>\n",
       "      <td>3.153061</td>\n",
       "    </tr>\n",
       "    <tr>\n",
       "      <th>male</th>\n",
       "      <td>50.0</td>\n",
       "      <td>9.82</td>\n",
       "      <td>2.154161</td>\n",
       "      <td>4.0</td>\n",
       "      <td>9.0</td>\n",
       "      <td>10.0</td>\n",
       "      <td>11.0</td>\n",
       "      <td>15.0</td>\n",
       "      <td>-0.111207</td>\n",
       "      <td>0.042378</td>\n",
       "      <td>10.0</td>\n",
       "      <td>4.640408</td>\n",
       "    </tr>\n",
       "  </tbody>\n",
       "</table>\n",
       "</div>"
      ],
      "text/plain": [
       "        count  mean       std  min  25%   50%   75%   max      Skew      Kurt  \\\n",
       "sex                                                                             \n",
       "female   50.0  9.70  1.775686  6.0  9.0   9.5  11.0  14.0  0.130345 -0.516480   \n",
       "male     50.0  9.82  2.154161  4.0  9.0  10.0  11.0  15.0 -0.111207  0.042378   \n",
       "\n",
       "        Midean       Var  \n",
       "sex                       \n",
       "female     9.5  3.153061  \n",
       "male      10.0  4.640408  "
      ]
     },
     "execution_count": 19,
     "metadata": {},
     "output_type": "execute_result"
    }
   ],
   "source": [
    "data = {'sex': ['male'] * len(male) + ['female'] * len(female), \n",
    "        'hours_spent': male + female}\n",
    "df = pd.DataFrame(data)\n",
    "descStats = df.groupby('sex')['hours_spent'].describe()\n",
    "\n",
    "kurtosis = df.groupby('sex')['hours_spent'].apply(stats.kurtosis)\n",
    "skewness = df.groupby('sex')['hours_spent'].apply(stats.skew)\n",
    "median = df.groupby('sex')['hours_spent'].median()\n",
    "variance = df.groupby('sex')['hours_spent'].apply(np.var, ddof=1)\n",
    "\n",
    "descStats['Skew'] = skewness\n",
    "descStats['Kurt'] = kurtosis\n",
    "descStats['Midean'] = median\n",
    "descStats['Var'] = variance\n",
    "\n",
    "descStats"
   ]
  },
  {
   "cell_type": "markdown",
   "id": "66912f35-fb51-4712-936d-a7b66cea42d6",
   "metadata": {},
   "source": [
    "#### What is the 95% confidence interval for the population mean of each gender category, and what is the 95% confidence interval for the difference between the means of the two populations?"
   ]
  },
  {
   "cell_type": "code",
   "execution_count": 37,
   "id": "c139a6ad-63eb-4d23-a65d-89e94fa53676",
   "metadata": {},
   "outputs": [
    {
     "name": "stdout",
     "output_type": "stream",
     "text": [
      "95% confidence interval for the population mean of each gender category:\n",
      "\n",
      "Female Confidence Interval: (9.207804916725085, 10.192195083274914)\n",
      "Male Confidence Interval: (9.2228971277912, 10.417102872208801)\n"
     ]
    }
   ],
   "source": [
    "ciLow = df.groupby('sex')['hours_spent'].mean() - (1.96*(df.groupby('sex')['hours_spent'].std()/m.sqrt(50)))\n",
    "ciHigh = df.groupby('sex')['hours_spent'].mean() + (1.96*(df.groupby('sex')['hours_spent'].std()/m.sqrt(50)))\n",
    "print(\"95% confidence interval for the population mean of each gender category:\\n\")\n",
    "print(f\"Female Confidence Interval: ({ciLow.iloc[0]}, {ciHigh.iloc[0]})\")\n",
    "print(f\"Male Confidence Interval: ({ciLow.iloc[1]}, {ciHigh.iloc[1]})\")"
   ]
  },
  {
   "cell_type": "code",
   "execution_count": 44,
   "id": "d5b36a7b-1d60-4250-a0b7-5c82b0bb606c",
   "metadata": {},
   "outputs": [
    {
     "name": "stdout",
     "output_type": "stream",
     "text": [
      "95% confidence interval for the difference between the means of the two populations: \n",
      "\n",
      "Confidence Interval: (-0.6460366069581782, 0.8860366069581802)\n"
     ]
    }
   ],
   "source": [
    "stdDev_male = np.array(male).std()\n",
    "stdDev_female = np.array(female).std()\n",
    "\n",
    "meanMale = np.array(male).mean()\n",
    "meanFemale = np.array(female).mean()\n",
    "\n",
    "marginOfError = 1.96*np.sqrt((stdDev_male**2 / 50) + (stdDev_female**2 / 50))\n",
    "ciLowA = (meanMale-meanFemale)-marginOfError\n",
    "ciHighA = (meanMale-meanFemale)+marginOfError\n",
    "\n",
    "print(\"95% confidence interval for the difference between the means of the two populations: \\n\")\n",
    "print(f\"Confidence Interval: ({ciLowA}, {ciHighA})\")"
   ]
  },
  {
   "cell_type": "markdown",
   "id": "009e11e5-af90-4f16-b205-3a24994ce948",
   "metadata": {},
   "source": [
    "#### Do you see a need for larger sample sizes and more testing with the time spent on cell phones? Discuss."
   ]
  },
  {
   "cell_type": "markdown",
   "id": "c8f9f239-22aa-43db-880d-58bb9e7db735",
   "metadata": {},
   "source": [
    "There is a need for larger sample sizes to provide accurate and representative analysis and conclusions, it is also to avoid type I errors where we can ensure that our tests can perform with a large power and proper outcome. "
   ]
  },
  {
   "cell_type": "markdown",
   "id": "8ff8f90b-86f6-41f8-a9ff-efb5c5ca8f92",
   "metadata": {},
   "source": [
    "#### Make a report including the testing of the assumptions for two independent samples t-test."
   ]
  },
  {
   "cell_type": "markdown",
   "id": "7beb284f-6b9e-49aa-9c2a-c747189799ea",
   "metadata": {},
   "source": [
    "Assumptions:\n",
    "\n",
    "1.  The dependent variable needs a continuous scale\n",
    "2.  The independent variable needs to have two independent groups with\n",
    "    two levels.\n",
    "3.  The data should have independence of observations. More\n",
    "    specifically, there shouldn’t be the same participants in both\n",
    "    groups.\n",
    "4.  The dependent variable should be normally or near-to-normally\n",
    "    distributed for each group\n",
    "5.  There should be no extreme outliers.\n",
    "6.  The data must have homogeneity of variances."
   ]
  },
  {
   "cell_type": "markdown",
   "id": "fd89c662-c280-4d14-9a71-9a463135024d",
   "metadata": {},
   "source": [
    "Assumptions:\n",
    "\n",
    "1.  The dependent variable needs a continuous scale ✔️\n",
    "\n",
    "-> The dependent variable is in terms of time, then this assumption is satisfied.\n",
    "\n",
    "2.  The independent variable needs to have two independent groups with\n",
    "    two levels. ✔️\n",
    "\n",
    "-> The independent variables are divided into distinct groups which are female and male gender, then this assumption is satisfied.\n",
    "\n",
    "3.  The data should have independence of observations. More\n",
    "    specifically, there shouldn’t be the same participants in both\n",
    "    groups.✔️\n",
    "\n",
    "-> No participants can have two genders at the same time, then this assumption is satisfied."
   ]
  },
  {
   "cell_type": "code",
   "execution_count": 50,
   "id": "a5839dce-2aa3-4dec-9f1b-e2ad0589ee7a",
   "metadata": {},
   "outputs": [
    {
     "name": "stdout",
     "output_type": "stream",
     "text": [
      "P-Value: 0.0448431670665741\n"
     ]
    }
   ],
   "source": [
    "s, pValue = stats.shapiro(df['hours_spent'])\n",
    "print(f\"P-Value: {pValue}\")"
   ]
  },
  {
   "cell_type": "markdown",
   "id": "f3956d90-f4a0-4f04-9823-6c11b0a3d0e6",
   "metadata": {},
   "source": [
    "4. The dependent variable should be normally or near-to-normally distributed for each group ✔️\n",
    "\n",
    "-> Since p-value is less than 0.05 then the data is normally distributed, by the shapiro wilk test this assumption is satisfied."
   ]
  },
  {
   "cell_type": "code",
   "execution_count": 51,
   "id": "81060965-a27d-42ad-b858-3ac507b61cc6",
   "metadata": {},
   "outputs": [
    {
     "data": {
      "image/png": "[encoded data removed]",
      "text/plain": [
       "<Figure size 500x500 with 1 Axes>"
      ]
     },
     "metadata": {},
     "output_type": "display_data"
    }
   ],
   "source": [
    "fig = plt.figure(figsize=(5, 5))\n",
    "ax = fig.add_subplot(111)\n",
    "bp = plt.boxplot([male, female], labels=['Male', 'Female'])\n",
    "\n",
    "ax.set_title('Hours Spent by Sex')\n",
    "ax.set_ylabel('Hours Spent')\n",
    "ax.set_xlabel('Sex')\n",
    "\n",
    "plt.show()"
   ]
  },
  {
   "cell_type": "code",
   "execution_count": 52,
   "id": "2a47c2d9-1c7a-4c0e-bc3f-2b52ad0b6d2c",
   "metadata": {},
   "outputs": [
    {
     "data": {
      "image/png": "[encoded data removed]",
      "text/plain": [
       "<Figure size 500x500 with 1 Axes>"
      ]
     },
     "metadata": {},
     "output_type": "display_data"
    }
   ],
   "source": [
    "male = [12,7,7,10,8,10,11,9,9,13,9,12,11,9,9,7,12,10,13,11,10,6,12,11,9,10,12,8,9,13,10,9,7,10,7,10,8,11,10,11,7,8,9,9,11,13,10,13]\n",
    "female = [11,10,11,10,11,12,12,10,9,9,9,10,8,7,12,9,7,8,9,8,7,7,9,9,12,10,9,13,9,9,10,9,6,12,8,11,8,8,11,12,9,10,11,14,12,7,11,10,9,11]\n",
    "\n",
    "fig = plt.figure(figsize=(5, 5))\n",
    "ax = fig.add_subplot(111)\n",
    "bp = plt.boxplot([male, female], labels=['Male', 'Female'])\n",
    "\n",
    "ax.set_title('Hours Spent by Sex')\n",
    "ax.set_ylabel('Hours Spent')\n",
    "ax.set_xlabel('Sex')\n",
    "\n",
    "plt.show()"
   ]
  },
  {
   "cell_type": "markdown",
   "id": "76a67422-bf74-48db-a7b1-582aaae0ac0d",
   "metadata": {},
   "source": [
    "5. There should be no extreme outliers. ✔️\n",
    "\n",
    "-> By removing the outliers, the assumption is satisfied."
   ]
  },
  {
   "cell_type": "code",
   "execution_count": 53,
   "id": "616dc117-8f7a-451a-b621-132e281cc017",
   "metadata": {},
   "outputs": [],
   "source": [
    "data = {'sex': ['male'] * len(male) + ['female'] * len(female), \n",
    "        'hours_spent': male + female}\n",
    "df = pd.DataFrame(data)"
   ]
  },
  {
   "cell_type": "code",
   "execution_count": 55,
   "id": "2f01a538-7b39-4e48-8568-e36e9b4356bc",
   "metadata": {},
   "outputs": [
    {
     "name": "stdout",
     "output_type": "stream",
     "text": [
      "P-Value: 0.8536266117489479\n"
     ]
    }
   ],
   "source": [
    "s, pValue = stats.levene(male, female)\n",
    "print(f\"P-Value: {pValue}\")"
   ]
  },
  {
   "cell_type": "markdown",
   "id": "8525b1ca-cb1c-464f-a51a-1e8bffd96014",
   "metadata": {},
   "source": [
    "6. The data must have homogeneity of variances. ✔️\n",
    "\n",
    "-> Since the p-value is greater than 0.05 then by levene's test the assumption is satisfied."
   ]
  },
  {
   "cell_type": "markdown",
   "id": "a4a3c46b-39fa-4601-b408-07783d61bfb9",
   "metadata": {},
   "source": [
    "Since we satisfied all assumptions of the independent samples t-test we can perform the hypothesis test, with the following hypotheses:\n",
    "\n",
    "$H_0: \\mu_1 = \\mu_2$\n",
    "\n",
    "$H_1: \\mu_1 \\neq \\mu_2$"
   ]
  },
  {
   "cell_type": "code",
   "execution_count": 56,
   "id": "7fed0732-cc39-49e7-9fc5-66ec7c5ff28d",
   "metadata": {},
   "outputs": [
    {
     "name": "stdout",
     "output_type": "stream",
     "text": [
      "T-Statistic: 0.36074614928825416\n",
      "P-Value: 0.7190818116406612\n"
     ]
    }
   ],
   "source": [
    "tStat,pVal = stats.ttest_ind(male,female)\n",
    "print(f\"T-Statistic: {tStat}\")\n",
    "print(f\"P-Value: {pVal}\")"
   ]
  },
  {
   "cell_type": "markdown",
   "id": "ba3ff675-95a5-4b05-b744-c551553ec263",
   "metadata": {},
   "source": [
    "Since the p-value is not less than 0.05 then we cannot reject the null hypothesis, hence the mean of both groups does not contain any significant difference between the two groups. Given the t-statistics, we can see that it is very close to 0 which means that there is little to no significant difference between the two groups, and since it is positive this indicates that the first group male "
   ]
  }
 ],
 "metadata": {
  "kernelspec": {
   "display_name": "Python 3 (ipykernel)",
   "language": "python",
   "name": "python3"
  },
  "language_info": {
   "codemirror_mode": {
    "name": "ipython",
    "version": 3
   },
   "file_extension": ".py",
   "mimetype": "text/x-python",
   "name": "python",
   "nbconvert_exporter": "python",
   "pygments_lexer": "ipython3",
   "version": "3.11.7"
  }
 },
 "nbformat": 4,
 "nbformat_minor": 5
}
